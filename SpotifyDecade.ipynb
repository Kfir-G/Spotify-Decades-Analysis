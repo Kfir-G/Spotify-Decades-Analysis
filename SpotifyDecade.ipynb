{
  "cells": [
    {
      "cell_type": "markdown",
      "metadata": {
        "id": "Tp8O_wxcIxHD"
      },
      "source": [
        "Using Spotify API and spotipy python library"
      ]
    },
    {
      "cell_type": "code",
      "execution_count": null,
      "metadata": {
        "id": "u6QlGI_YWCck"
      },
      "outputs": [],
      "source": [
        "pip install spotipy "
      ]
    },
    {
      "cell_type": "code",
      "execution_count": null,
      "metadata": {
        "id": "FWH_JkSHF8bi"
      },
      "outputs": [],
      "source": [
        "import sys\n",
        "import spotipy\n",
        "import spotipy.util as util\n",
        "from spotipy.oauth2 import SpotifyClientCredentials\n",
        "import itertools\n",
        "import pandas as pd\n",
        "import datetime as datetime\n",
        "\n",
        "SPOTIPY_CLIENT_ID=''\n",
        "SPOTIPY_CLIENT_SECRET=''"
      ]
    },
    {
      "cell_type": "code",
      "execution_count": null,
      "metadata": {
        "id": "E0c5pi9yIPZD"
      },
      "outputs": [],
      "source": [
        "client_credentials_manager = SpotifyClientCredentials(SPOTIPY_CLIENT_ID,SPOTIPY_CLIENT_SECRET)\n",
        "sp = spotipy.Spotify(client_credentials_manager=client_credentials_manager, requests_timeout=20)"
      ]
    },
    {
      "cell_type": "code",
      "execution_count": null,
      "metadata": {
        "id": "48LC8UZBIVap"
      },
      "outputs": [],
      "source": [
        "playlists = sp.user_playlists('spotify')\n",
        "playlist_ids = []\n",
        "while playlists:\n",
        "    for i, playlist in enumerate(playlists['items']):\n",
        "        playlist_ids.append(playlist['id'])\n",
        "    if playlists['next']:\n",
        "        playlists = sp.next(playlists)\n",
        "    else:\n",
        "        playlists = None"
      ]
    },
    {
      "cell_type": "code",
      "execution_count": null,
      "metadata": {
        "id": "oGlb9MUTJ5wN"
      },
      "outputs": [],
      "source": [
        "trackslist = [] \n",
        "for j,i in enumerate(playlist_ids):\n",
        "    if j%50 == 0:\n",
        "        print(j)\n",
        "    tracks = sp.playlist_tracks(i, limit = 100)\n",
        "    trackslist.append(tracks['items'])\n",
        "    while tracks['next']:\n",
        "        tracks = sp.next(tracks)\n",
        "        trackslist.append(tracks['items'])"
      ]
    },
    {
      "cell_type": "code",
      "execution_count": null,
      "metadata": {
        "colab": {
          "base_uri": "https://localhost:8080/"
        },
        "id": "NMHTxdSFvENN",
        "outputId": "fb891e62-e534-4d88-be6c-fbc7e7c6510d"
      },
      "outputs": [
        {
          "output_type": "stream",
          "name": "stdout",
          "text": [
            "1900\n",
            "1920\n",
            "1930\n",
            "1940\n",
            "1950\n",
            "1960\n",
            "1970\n",
            "1980\n",
            "1990\n",
            "2000\n",
            "2010\n",
            "2020\n"
          ]
        }
      ],
      "source": [
        "int(trackslist[0][0]['track']['album']['release_date'][0:4])\n",
        "int(trackslist[0][0]['track']['album']['release_date'][0:4])\n",
        "decade = 1900\n",
        "newlist = []\n",
        "templist = []\n",
        "for y in range(decade,2030,10):\n",
        "  for i in range(len(trackslist)): \n",
        "    for j in range(len(trackslist[i])-1):\n",
        "      try:\n",
        "        currentYear = int(trackslist[i][j]['track']['album']['release_date'][0:4])\n",
        "        if( currentYear >= y and currentYear < (y+10)):\n",
        "          templist.append([trackslist[i][j]])\n",
        "      except:\n",
        "        continue\n",
        "  if(templist != []):\n",
        "    print(y)\n",
        "    newlist.append(templist)\n",
        "    templist = []\n",
        "\n",
        "  #newlist = [[[{1}],{2},3,4,5],[],[],[],[],[],[]]"
      ]
    },
    {
      "cell_type": "markdown",
      "metadata": {
        "id": "qy0DCspGKQ4w"
      },
      "source": [
        "Take artist from tracks"
      ]
    },
    {
      "cell_type": "code",
      "execution_count": null,
      "metadata": {
        "id": "zRbSOzKOKUhJ"
      },
      "outputs": [],
      "source": [
        "X=30\n",
        "tracks = [j['track'] for i in newlist[10] for j in i]\n",
        "artistids = [j['id'] for i in tracks if i!=None for j in i['artists']]\n",
        "artistids = pd.Series(artistids).drop_duplicates()\n",
        "artistids = artistids.dropna()\n",
        "artists = sp.artists(artistids[:X])['artists']\n",
        "for i in range(X,len(artistids),X):\n",
        "    artists.append(sp.artists(artistids[i:(i+X)])['artists'])\n",
        "artists = artists[:X] + [j for i in artists[X:] for j in i]"
      ]
    },
    {
      "cell_type": "code",
      "execution_count": null,
      "metadata": {
        "colab": {
          "base_uri": "https://localhost:8080/"
        },
        "id": "jRw0Zrffasco",
        "outputId": "d1829b17-ae9b-4a3e-a7fd-9e1ab460dc3e"
      },
      "outputs": [
        {
          "output_type": "execute_result",
          "data": {
            "text/plain": [
              "14610"
            ]
          },
          "metadata": {},
          "execution_count": 47
        }
      ],
      "source": [
        "for j in range(len(artists)):\n",
        "        artists[j]['followers'] = artists[j]['followers']['total']\n",
        "artists = pd.DataFrame.from_dict(artists)\n",
        "artists = artists.drop_duplicates(subset = ['uri'])\n",
        "len(artists)"
      ]
    },
    {
      "cell_type": "code",
      "execution_count": null,
      "metadata": {
        "id": "QJ6aEr3gkHzh"
      },
      "outputs": [],
      "source": [
        "artists  = artists[[ 'followers', 'genres','id','name','popularity','uri']]\n",
        "allart = artists.append(artists)\n",
        "allart = allart.drop_duplicates(subset = ['id'])\n",
        "\n",
        "\n",
        "allart.columns = ['followers', 'genres','spotify id','Label','popularity','uri']\n",
        "strgnrs = ['_'.join(i) for i in allart['genres']]\n",
        "allart['strgnrs'] = strgnrs"
      ]
    },
    {
      "cell_type": "code",
      "execution_count": null,
      "metadata": {
        "id": "XJvNY0u_jEFk"
      },
      "outputs": [],
      "source": [
        "#allart.to_csv('NEWNEW-artists>>>DECADE-2020<<<_nodes_gephi.csv', index = False)"
      ]
    },
    {
      "cell_type": "markdown",
      "metadata": {
        "id": "GWfMBt7jZuJC"
      },
      "source": [
        "Create Matrix"
      ]
    },
    {
      "cell_type": "code",
      "execution_count": null,
      "metadata": {
        "colab": {
          "base_uri": "https://localhost:8080/"
        },
        "id": "IDV68UHYZtPI",
        "outputId": "852c00d7-52b6-46c8-ac46-b911d3d5dacb"
      },
      "outputs": [
        {
          "output_type": "stream",
          "name": "stdout",
          "text": [
            "('modern rock', 'pop')\n"
          ]
        }
      ],
      "source": [
        "sum = 0\n",
        "gnrs = [i for i in allart['genres'] if i!= []]\n",
        "c = [list(itertools.combinations(i,2)) for i in gnrs ]\n",
        "a = list(itertools.chain.from_iterable((i, i[::-1]) for c_ in c for i in c_))\n",
        "dfa = pd.DataFrame(a)\n",
        "dfgenrs = pd.pivot_table(dfa, index=0, columns=1, aggfunc='size', fill_value=0)\n",
        "print(a[0])"
      ]
    },
    {
      "cell_type": "code",
      "source": [
        "stam = [col for col, val in dfgenrs.sum().iteritems() if type(val)==int and int(val) < 5]"
      ],
      "metadata": {
        "id": "w9qcIZiEjaJL"
      },
      "execution_count": null,
      "outputs": []
    },
    {
      "cell_type": "code",
      "source": [
        "dfgenrs.drop(stam,axis=1,inplace=True) #drop col\n",
        "dfgenrs.drop(stam,inplace=True) #drop row \n"
      ],
      "metadata": {
        "id": "MYlSFopDjhDK"
      },
      "execution_count": null,
      "outputs": []
    },
    {
      "cell_type": "code",
      "source": [
        "dfgenrs.shape"
      ],
      "metadata": {
        "colab": {
          "base_uri": "https://localhost:8080/"
        },
        "id": "eTjxb4bWjpNg",
        "outputId": "f7881741-a6ad-4ecb-c0b6-d22a78b219fe"
      },
      "execution_count": null,
      "outputs": [
        {
          "output_type": "execute_result",
          "data": {
            "text/plain": [
              "(1909, 1909)"
            ]
          },
          "metadata": {},
          "execution_count": 52
        }
      ]
    },
    {
      "cell_type": "code",
      "execution_count": null,
      "metadata": {
        "id": "6DFuL0CrZ1GX"
      },
      "outputs": [],
      "source": [
        "dfa.to_csv('NEW-network_nodes_final2010.csv',index = False)\n",
        "dfgenrs.to_csv('New-network_matrix_final2010.csv', index = False)"
      ]
    },
    {
      "cell_type": "markdown",
      "metadata": {
        "id": "SB8aNVE3eC5a"
      },
      "source": [
        "----------------------------------------------------------------------"
      ]
    },
    {
      "cell_type": "markdown",
      "metadata": {
        "id": "UO6j2i09A0XJ"
      },
      "source": [
        "get Node and edges props\n",
        "\n"
      ]
    },
    {
      "cell_type": "code",
      "execution_count": null,
      "metadata": {
        "id": "vwfnjF8RBzoA",
        "colab": {
          "base_uri": "https://localhost:8080/"
        },
        "outputId": "7d2d1579-28ae-4ee5-baef-8f3ae5670d3b"
      },
      "outputs": [
        {
          "output_type": "execute_result",
          "data": {
            "text/plain": [
              "14610"
            ]
          },
          "metadata": {},
          "execution_count": 40
        }
      ],
      "source": [
        "#Reading in artists data and removing artists without any genres tagged\n",
        "artists = allart\n",
        "artists = artists.loc[artists['genres'] != '[]']\n",
        "len(artists)"
      ]
    },
    {
      "cell_type": "code",
      "execution_count": null,
      "metadata": {
        "id": "PwdguJO-D_Pf"
      },
      "outputs": [],
      "source": [
        "gnrs = []\n",
        "for i in artists.index:\n",
        "    tmpdict = {'genre': artists['strgnrs'][i].split(\"_\"),'popularity': artists['popularity'][i],\n",
        "              'followers': artists['followers'][i]}\n",
        "    gnrs.append(tmpdict)\n",
        "c = [{'genres': list(itertools.combinations(i['genre'],2)), 'popularity': i['popularity'], 'followers': i['followers']} for i in gnrs]"
      ]
    },
    {
      "cell_type": "code",
      "execution_count": null,
      "metadata": {
        "id": "VEk0o1p2EB3q"
      },
      "outputs": [],
      "source": [
        "#Creating a list of edges from the combinations created above\n",
        "edges = [{'edge': j, 'population': i['popularity'],'followers': i['followers']}  for i in c for j in i['genres']]\n",
        "edges = pd.DataFrame.from_dict(edges)\n",
        "edges = pd.DataFrame(edges.groupby(['edge']).agg(['mean','count']))\n",
        "edges.columns = ['mean popularity','count','mean followers', 'all count']\n",
        "edges = edges.reset_index()\n",
        "edges = edges[['edge','mean popularity','count','mean followers']]"
      ]
    },
    {
      "cell_type": "code",
      "execution_count": null,
      "metadata": {
        "id": "aUVkfVgEEkpv"
      },
      "outputs": [],
      "source": [
        "edges.to_csv('edges2010.csv', index = False)"
      ]
    },
    {
      "cell_type": "code",
      "execution_count": null,
      "metadata": {
        "id": "TBA1fofoEQm5"
      },
      "outputs": [],
      "source": [
        "nodes = [{'node': j, 'population': i['popularity'],'followers': i['followers']}  for i in gnrs for j in i['genre']]\n",
        "nodes = pd.DataFrame.from_dict(nodes)\n",
        "nodes = pd.DataFrame(nodes.groupby(['node']).agg(['mean','count']))\n",
        "nodes.columns = ['mean popularity','count','mean followers', 'all count']\n",
        "nodes = nodes.reset_index()\n",
        "nodes = nodes[['node','mean popularity','count','mean followers']]"
      ]
    },
    {
      "cell_type": "code",
      "execution_count": null,
      "metadata": {
        "id": "77znuaRWFEkG"
      },
      "outputs": [],
      "source": [
        "nodes.to_csv('nodes-2010.csv', index = False)"
      ]
    }
  ],
  "metadata": {
    "colab": {
      "collapsed_sections": [],
      "name": "SpotifyDecade.ipynb",
      "provenance": []
    },
    "kernelspec": {
      "display_name": "Python 3",
      "name": "python3"
    },
    "language_info": {
      "name": "python"
    }
  },
  "nbformat": 4,
  "nbformat_minor": 0
}